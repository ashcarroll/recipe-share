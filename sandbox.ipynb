{
 "cells": [
  {
   "cell_type": "code",
   "execution_count": 1,
   "metadata": {},
   "outputs": [],
   "source": [
    "from datetime import datetime\n",
    "\n",
    "from flask import Flask, flash, render_template, redirect, request, url_for\n",
    "from flask_login import LoginManager, login_user, logout_user, login_required, current_user\n",
    "\n",
    "from models import User, Recipe, Favorite, Cuisine, db\n",
    "\n",
    "\n",
    "app = Flask(__name__)\n",
    "app.config.from_object('config')  # Load configuration from config.py\n",
    "\n",
    "login_manager = LoginManager(app)\n",
    "login_manager.login_view = \"login_page\"\n",
    "\n",
    "with app.app_context():\n",
    "    db.init_app(app)\n",
    "    db.create_all()"
   ]
  },
  {
   "cell_type": "code",
   "execution_count": null,
   "metadata": {},
   "outputs": [],
   "source": [
    "# Create chef\n",
    "with app.test_request_context():\n",
    "    user = User(username=\"guy\", is_chef=True)\n",
    "    db.session.add(user)\n",
    "    db.session.commit()"
   ]
  },
  {
   "cell_type": "code",
   "execution_count": 3,
   "metadata": {},
   "outputs": [
    {
     "name": "stdout",
     "output_type": "stream",
     "text": [
      "[User <username: guy, is_chef: True>]\n"
     ]
    }
   ],
   "source": [
    "with app.test_request_context():\n",
    "    print(User.query.all())"
   ]
  },
  {
   "cell_type": "code",
   "execution_count": 4,
   "metadata": {},
   "outputs": [],
   "source": [
    "# Create cuisines \n",
    "with app.test_request_context():\n",
    "    db.session.add(Cuisine(cuisine_name='Mexican'))\n",
    "    db.session.add(Cuisine(cuisine_name='Indian'))\n",
    "    db.session.add(Cuisine(cuisine_name='Italian'))\n",
    "    db.session.add(Cuisine(cuisine_name='Japanese'))\n",
    "    db.session.commit()"
   ]
  },
  {
   "cell_type": "code",
   "execution_count": 5,
   "metadata": {},
   "outputs": [
    {
     "name": "stdout",
     "output_type": "stream",
     "text": [
      "[Cuisine <cuisine name:Mexican>, Cuisine <cuisine name:Indian>, Cuisine <cuisine name:Italian>, Cuisine <cuisine name:Japanese>]\n"
     ]
    }
   ],
   "source": [
    "with app.test_request_context():\n",
    "    print(Cuisine.query.all())"
   ]
  },
  {
   "cell_type": "code",
   "execution_count": 6,
   "metadata": {},
   "outputs": [],
   "source": [
    "# Add a recipe\n",
    "with app.test_request_context():\n",
    "    chef = User.query.filter_by(username='guy').first()\n",
    "    cuisine = Cuisine.query.filter_by(cuisine_name='Mexican').first()\n",
    "    db.session.add(Recipe(recipe_name='toast', chef=chef, cuisine=cuisine))\n",
    "    db.session.commit()"
   ]
  },
  {
   "cell_type": "code",
   "execution_count": 7,
   "metadata": {},
   "outputs": [],
   "source": [
    "#Add second recipe\n",
    "with app.test_request_context():\n",
    "    chef = User.query.filter_by(username='guy').first()\n",
    "    cuisine = Cuisine.query.filter_by(cuisine_name='Japanese').first()\n",
    "    db.session.add(Recipe(recipe_name='sushi', chef=chef, cuisine=cuisine))\n",
    "    db.session.commit()"
   ]
  },
  {
   "cell_type": "code",
   "execution_count": 8,
   "metadata": {},
   "outputs": [
    {
     "name": "stdout",
     "output_type": "stream",
     "text": [
      "[Recipe <recipe name:toast, added by:User <username: guy, is_chef: True>>, Recipe <recipe name:sushi, added by:User <username: guy, is_chef: True>>]\n"
     ]
    }
   ],
   "source": [
    "with app.test_request_context():\n",
    "    print(Recipe.query.all())"
   ]
  },
  {
   "cell_type": "code",
   "execution_count": 9,
   "metadata": {},
   "outputs": [],
   "source": [
    "# Create user\n",
    "with app.test_request_context():\n",
    "    user = User(username=\"goku\", is_chef=False)\n",
    "    db.session.add(user)\n",
    "    db.session.commit()"
   ]
  },
  {
   "cell_type": "code",
   "execution_count": 10,
   "metadata": {},
   "outputs": [
    {
     "name": "stdout",
     "output_type": "stream",
     "text": [
      "[User <username: guy, is_chef: True>, User <username: goku, is_chef: False>]\n"
     ]
    }
   ],
   "source": [
    "with app.test_request_context():\n",
    "    print(User.query.all())"
   ]
  },
  {
   "cell_type": "code",
   "execution_count": null,
   "metadata": {},
   "outputs": [],
   "source": []
  }
 ],
 "metadata": {
  "kernelspec": {
   "display_name": "venv",
   "language": "python",
   "name": "python3"
  },
  "language_info": {
   "codemirror_mode": {
    "name": "ipython",
    "version": 3
   },
   "file_extension": ".py",
   "mimetype": "text/x-python",
   "name": "python",
   "nbconvert_exporter": "python",
   "pygments_lexer": "ipython3",
   "version": "3.13.0"
  }
 },
 "nbformat": 4,
 "nbformat_minor": 2
}
