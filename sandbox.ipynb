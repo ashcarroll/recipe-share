{
 "cells": [
  {
   "cell_type": "code",
   "execution_count": null,
   "metadata": {},
   "outputs": [],
   "source": [
    "from datetime import datetime, timezone\n",
    "\n",
    "from flask import Flask, flash, render_template, redirect, request, url_for\n",
    "from flask_login import LoginManager, login_user, logout_user, login_required, current_user\n",
    "\n",
    "from models import User, Recipe, Favorite, Cuisine, db\n",
    "\n",
    "\n",
    "app = Flask(__name__)\n",
    "app.config.from_object('config')  # Load configuration from config.py\n",
    "\n",
    "login_manager = LoginManager(app)\n",
    "login_manager.login_view = \"login_page\"\n",
    "\n",
    "with app.app_context():\n",
    "    db.init_app(app)\n",
    "    db.create_all()"
   ]
  },
  {
   "cell_type": "code",
   "execution_count": null,
   "metadata": {},
   "outputs": [],
   "source": [
    "# Create chef\n",
    "with app.test_request_context():\n",
    "    user = User(username=\"guy\", is_chef=True)\n",
    "    db.session.add(user)\n",
    "    db.session.commit()"
   ]
  },
  {
   "cell_type": "code",
   "execution_count": 3,
   "metadata": {},
   "outputs": [
    {
     "name": "stdout",
     "output_type": "stream",
     "text": [
      "[User <username: guy, is_chef: True>]\n"
     ]
    }
   ],
   "source": [
    "with app.test_request_context():\n",
    "    print(User.query.all())"
   ]
  },
  {
   "cell_type": "code",
   "execution_count": 4,
   "metadata": {},
   "outputs": [],
   "source": [
    "# Create cuisines \n",
    "with app.test_request_context():\n",
    "    db.session.add(Cuisine(cuisine_name='Mexican'))\n",
    "    db.session.add(Cuisine(cuisine_name='Indian'))\n",
    "    db.session.add(Cuisine(cuisine_name='Italian'))\n",
    "    db.session.add(Cuisine(cuisine_name='Japanese'))\n",
    "    db.session.commit()"
   ]
  },
  {
   "cell_type": "code",
   "execution_count": 5,
   "metadata": {},
   "outputs": [
    {
     "name": "stdout",
     "output_type": "stream",
     "text": [
      "[Cuisine <cuisine name:Mexican>, Cuisine <cuisine name:Indian>, Cuisine <cuisine name:Italian>, Cuisine <cuisine name:Japanese>]\n"
     ]
    }
   ],
   "source": [
    "with app.test_request_context():\n",
    "    print(Cuisine.query.all())"
   ]
  },
  {
   "cell_type": "code",
   "execution_count": 6,
   "metadata": {},
   "outputs": [],
   "source": [
    "# Add a recipe\n",
    "with app.test_request_context():\n",
    "    chef = User.query.filter_by(username='guy').first()\n",
    "    cuisine = Cuisine.query.filter_by(cuisine_name='Mexican').first()\n",
    "    db.session.add(Recipe(recipe_name='toast', chef=chef, cuisine=cuisine))\n",
    "    db.session.commit()"
   ]
  },
  {
   "cell_type": "code",
   "execution_count": 7,
   "metadata": {},
   "outputs": [],
   "source": [
    "#Add second recipe\n",
    "with app.test_request_context():\n",
    "    chef = User.query.filter_by(username='guy').first()\n",
    "    cuisine = Cuisine.query.filter_by(cuisine_name='Japanese').first()\n",
    "    db.session.add(Recipe(recipe_name='sushi', chef=chef, cuisine=cuisine))\n",
    "    db.session.commit()"
   ]
  },
  {
   "cell_type": "code",
   "execution_count": 8,
   "metadata": {},
   "outputs": [
    {
     "name": "stdout",
     "output_type": "stream",
     "text": [
      "[Recipe <recipe name:toast, added by:User <username: guy, is_chef: True>>, Recipe <recipe name:sushi, added by:User <username: guy, is_chef: True>>]\n"
     ]
    }
   ],
   "source": [
    "with app.test_request_context():\n",
    "    print(Recipe.query.all())"
   ]
  },
  {
   "cell_type": "code",
   "execution_count": 9,
   "metadata": {},
   "outputs": [],
   "source": [
    "# Create user\n",
    "with app.test_request_context():\n",
    "    user = User(username=\"goku\", is_chef=False)\n",
    "    db.session.add(user)\n",
    "    db.session.commit()"
   ]
  },
  {
   "cell_type": "code",
   "execution_count": 10,
   "metadata": {},
   "outputs": [
    {
     "name": "stdout",
     "output_type": "stream",
     "text": [
      "[User <username: guy, is_chef: True>, User <username: goku, is_chef: False>]\n"
     ]
    }
   ],
   "source": [
    "with app.test_request_context():\n",
    "    print(User.query.all())"
   ]
  },
  {
   "cell_type": "code",
   "execution_count": 14,
   "metadata": {},
   "outputs": [],
   "source": [
    "# User favorites a recipe\n",
    "with app.test_request_context():\n",
    "    user = User.query.filter_by(username='goku').first()\n",
    "    recipe = Recipe.query.filter_by(recipe_name='sushi').first()\n",
    "    db.session.add(Favorite(user=user, recipe=recipe))\n",
    "    db.session.commit()"
   ]
  },
  {
   "cell_type": "code",
   "execution_count": null,
   "metadata": {},
   "outputs": [
    {
     "ename": "InvalidRequestError",
     "evalue": "Entity namespace for \"favorites\" has no property \"username\"",
     "output_type": "error",
     "traceback": [
      "\u001b[1;31m---------------------------------------------------------------------------\u001b[0m",
      "\u001b[1;31mAttributeError\u001b[0m                            Traceback (most recent call last)",
      "File \u001b[1;32md:\\Documents\\College\\Full Stack\\Module 4 - Databases\\Module 4_Assigment\\recipe-share\\venv\\Lib\\site-packages\\sqlalchemy\\sql\\base.py:2181\u001b[0m, in \u001b[0;36m_entity_namespace_key\u001b[1;34m(entity, key, default)\u001b[0m\n\u001b[0;32m   2180\u001b[0m     \u001b[38;5;28;01melse\u001b[39;00m:\n\u001b[1;32m-> 2181\u001b[0m         \u001b[38;5;28;01mreturn\u001b[39;00m \u001b[38;5;28;43mgetattr\u001b[39;49m\u001b[43m(\u001b[49m\u001b[43mns\u001b[49m\u001b[43m,\u001b[49m\u001b[43m \u001b[49m\u001b[43mkey\u001b[49m\u001b[43m)\u001b[49m  \u001b[38;5;66;03m# type: ignore\u001b[39;00m\n\u001b[0;32m   2182\u001b[0m \u001b[38;5;28;01mexcept\u001b[39;00m \u001b[38;5;167;01mAttributeError\u001b[39;00m \u001b[38;5;28;01mas\u001b[39;00m err:\n",
      "\u001b[1;31mAttributeError\u001b[0m: type object 'Favorite' has no attribute 'username'",
      "\nThe above exception was the direct cause of the following exception:\n",
      "\u001b[1;31mInvalidRequestError\u001b[0m                       Traceback (most recent call last)",
      "Cell \u001b[1;32mIn[17], line 2\u001b[0m\n\u001b[0;32m      1\u001b[0m \u001b[38;5;28;01mwith\u001b[39;00m app\u001b[38;5;241m.\u001b[39mtest_request_context():\n\u001b[1;32m----> 2\u001b[0m     \u001b[38;5;28mprint\u001b[39m(\u001b[43mFavorite\u001b[49m\u001b[38;5;241;43m.\u001b[39;49m\u001b[43mquery\u001b[49m\u001b[38;5;241;43m.\u001b[39;49m\u001b[43mfilter_by\u001b[49m\u001b[43m(\u001b[49m\u001b[43musername\u001b[49m\u001b[38;5;241;43m=\u001b[39;49m\u001b[38;5;124;43m'\u001b[39;49m\u001b[38;5;124;43mgoku\u001b[39;49m\u001b[38;5;124;43m'\u001b[39;49m\u001b[43m)\u001b[49m\u001b[38;5;241m.\u001b[39mfirst())\n",
      "File \u001b[1;32md:\\Documents\\College\\Full Stack\\Module 4 - Databases\\Module 4_Assigment\\recipe-share\\venv\\Lib\\site-packages\\sqlalchemy\\orm\\query.py:1984\u001b[0m, in \u001b[0;36mQuery.filter_by\u001b[1;34m(self, **kwargs)\u001b[0m\n\u001b[0;32m   1956\u001b[0m \u001b[38;5;250m\u001b[39m\u001b[38;5;124mr\u001b[39m\u001b[38;5;124;03m\"\"\"Apply the given filtering criterion to a copy\u001b[39;00m\n\u001b[0;32m   1957\u001b[0m \u001b[38;5;124;03mof this :class:`_query.Query`, using keyword expressions.\u001b[39;00m\n\u001b[0;32m   1958\u001b[0m \n\u001b[1;32m   (...)\u001b[0m\n\u001b[0;32m   1979\u001b[0m \n\u001b[0;32m   1980\u001b[0m \u001b[38;5;124;03m\"\"\"\u001b[39;00m\n\u001b[0;32m   1981\u001b[0m from_entity \u001b[38;5;241m=\u001b[39m \u001b[38;5;28mself\u001b[39m\u001b[38;5;241m.\u001b[39m_filter_by_zero()\n\u001b[0;32m   1983\u001b[0m clauses \u001b[38;5;241m=\u001b[39m [\n\u001b[1;32m-> 1984\u001b[0m     \u001b[43m_entity_namespace_key\u001b[49m\u001b[43m(\u001b[49m\u001b[43mfrom_entity\u001b[49m\u001b[43m,\u001b[49m\u001b[43m \u001b[49m\u001b[43mkey\u001b[49m\u001b[43m)\u001b[49m \u001b[38;5;241m==\u001b[39m value\n\u001b[0;32m   1985\u001b[0m     \u001b[38;5;28;01mfor\u001b[39;00m key, value \u001b[38;5;129;01min\u001b[39;00m kwargs\u001b[38;5;241m.\u001b[39mitems()\n\u001b[0;32m   1986\u001b[0m ]\n\u001b[0;32m   1987\u001b[0m \u001b[38;5;28;01mreturn\u001b[39;00m \u001b[38;5;28mself\u001b[39m\u001b[38;5;241m.\u001b[39mfilter(\u001b[38;5;241m*\u001b[39mclauses)\n",
      "File \u001b[1;32md:\\Documents\\College\\Full Stack\\Module 4 - Databases\\Module 4_Assigment\\recipe-share\\venv\\Lib\\site-packages\\sqlalchemy\\sql\\base.py:2183\u001b[0m, in \u001b[0;36m_entity_namespace_key\u001b[1;34m(entity, key, default)\u001b[0m\n\u001b[0;32m   2181\u001b[0m         \u001b[38;5;28;01mreturn\u001b[39;00m \u001b[38;5;28mgetattr\u001b[39m(ns, key)  \u001b[38;5;66;03m# type: ignore\u001b[39;00m\n\u001b[0;32m   2182\u001b[0m \u001b[38;5;28;01mexcept\u001b[39;00m \u001b[38;5;167;01mAttributeError\u001b[39;00m \u001b[38;5;28;01mas\u001b[39;00m err:\n\u001b[1;32m-> 2183\u001b[0m     \u001b[38;5;28;01mraise\u001b[39;00m exc\u001b[38;5;241m.\u001b[39mInvalidRequestError(\n\u001b[0;32m   2184\u001b[0m         \u001b[38;5;124m'\u001b[39m\u001b[38;5;124mEntity namespace for \u001b[39m\u001b[38;5;124m\"\u001b[39m\u001b[38;5;132;01m%s\u001b[39;00m\u001b[38;5;124m\"\u001b[39m\u001b[38;5;124m has no property \u001b[39m\u001b[38;5;124m\"\u001b[39m\u001b[38;5;132;01m%s\u001b[39;00m\u001b[38;5;124m\"\u001b[39m\u001b[38;5;124m'\u001b[39m \u001b[38;5;241m%\u001b[39m (entity, key)\n\u001b[0;32m   2185\u001b[0m     ) \u001b[38;5;28;01mfrom\u001b[39;00m \u001b[38;5;21;01merr\u001b[39;00m\n",
      "\u001b[1;31mInvalidRequestError\u001b[0m: Entity namespace for \"favorites\" has no property \"username\""
     ]
    }
   ],
   "source": [
    "with app.test_request_context():\n",
    "    print(Favorite.query.all())"
   ]
  }
 ],
 "metadata": {
  "kernelspec": {
   "display_name": "venv",
   "language": "python",
   "name": "python3"
  },
  "language_info": {
   "codemirror_mode": {
    "name": "ipython",
    "version": 3
   },
   "file_extension": ".py",
   "mimetype": "text/x-python",
   "name": "python",
   "nbconvert_exporter": "python",
   "pygments_lexer": "ipython3",
   "version": "3.13.0"
  }
 },
 "nbformat": 4,
 "nbformat_minor": 2
}
